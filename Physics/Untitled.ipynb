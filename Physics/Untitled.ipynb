{
 "cells": [
  {
   "cell_type": "markdown",
   "id": "bed7619d",
   "metadata": {},
   "source": [
    "### IDLE: I recommend using anaconda spyder as an idle when Wrangling data. You can view variables with the variable explorer, as well as plots. \n",
    "## -----Data Wrangling packages------\n",
    "#### Pandas: Gives us dataframes, can perform math operations across entire dataset or just a column \n",
    "#### Numpy: Gives us numpy arrays, can perform math operations across entire array\n",
    "## -----Graphing packages------------\n",
    "#### matplotlib\n",
    "#### Seaborn: I did not use this but another option to check out. https://seaborn.pydata.org/"
   ]
  },
  {
   "cell_type": "markdown",
   "id": "e90d9996",
   "metadata": {},
   "source": [
    "# First we need to import packages to use their functionality. Use \"import XXXX as XX\" instead of just import XXXX\n",
    "For example \"import pandas as pd\" instead of import pandas.\n",
    "This way when we want to use functions within the pandas package we can just right pd.function() vs pandas.function(). Its a shortcut!"
   ]
  },
  {
   "cell_type": "code",
   "execution_count": 3,
   "id": "ce3371a9",
   "metadata": {},
   "outputs": [],
   "source": [
    "import pandas as pd\n",
    "import numpy as np\n",
    "import matplotlib.pyplot as plt\n",
    "from scipy.stats import poisson\n",
    "import matplotlib.pyplot as plt\n",
    "import random\n",
    "import scipy.stats"
   ]
  },
  {
   "cell_type": "markdown",
   "id": "2913286d",
   "metadata": {},
   "source": [
    "## Lets bring our data in using pd.read_csv(path to file) and pd.read_excel(path to file)"
   ]
  },
  {
   "cell_type": "code",
   "execution_count": 4,
   "id": "e9f6a6fb",
   "metadata": {},
   "outputs": [],
   "source": [
    "background_df = pd.read_csv(r'C:\\Users\\cc-ch\\Desktop\\Upwork\\Physics\\background.csv')\n",
    "cesium_df = pd.read_csv(r'C:\\Users\\cc-ch\\Desktop\\Upwork\\Physics\\cesium.csv')\n",
    "muon_df = pd.read_excel(r'C:\\Users\\cc-ch\\Desktop\\Upwork\\Physics\\muon.xls')  # I added a header to the excel file and deleted the index\n",
    "muon_df = muon_df.to_numpy() # I changed dataframe into a numpy array using df.to_numpy()"
   ]
  },
  {
   "cell_type": "markdown",
   "id": "a9cfb18a",
   "metadata": {},
   "source": [
    "## Notes on variable calling and indexing[0]\n",
    "\n",
    "You can call two variables at once like this:\n",
    "* variable1, variable2 = 1, 2 \n",
    "#### instead of:\n",
    "* variable1 = 1\n",
    "* variable2 = 2\n",
    "\n",
    "**cesium_df** is our variable that holds the pandas dataframe. I am calling **.min()** and **.max()** on the dataframe to find the **minimum** and **maximum value**. The functions finds the min/max for each column so it returns a **series** [max for col1, max for col2, etc.]. We just have one column so I **index** the first element of the series **\"myseries[0]\"** to get the first value.\n",
    "\n",
    "#### another way to write this is:\n",
    "* first_edge = cesium_df.min()         \n",
    "* first_edge = cesium_df[0]\n",
    "* last_edge = cesium_df.min()\n",
    "* last_edge = cesium_df[0]"
   ]
  },
  {
   "cell_type": "code",
   "execution_count": 5,
   "id": "08883825",
   "metadata": {},
   "outputs": [],
   "source": [
    "first_edge, last_edge = cesium_df.min(), cesium_df.max() \n",
    "first_edge, last_edge = first_edge[0], last_edge[0]"
   ]
  },
  {
   "cell_type": "markdown",
   "id": "e79d4c11",
   "metadata": {},
   "source": [
    "# Plot a histogram!\n",
    "#### Parameters of plt.hist( )\n",
    "* **range**: takes two numbers [#,#], Sets the range of the graph. I used the min and max value of the dataset for this\n",
    "* **bins**: takes an int, sets the number of bins in the histogram\n",
    "* **edgecolor**: takes a string, controls the color of the outline (defines bar)\n",
    "\n",
    "#### Documentation\n",
    "https://matplotlib.org/stable/api/_as_gen/matplotlib.pyplot.hist.html"
   ]
  },
  {
   "cell_type": "code",
   "execution_count": 6,
   "id": "a8e8c3ab",
   "metadata": {},
   "outputs": [
    {
     "data": {
      "image/png": "[encoded data removed]",
      "text/plain": [
       "<Figure size 432x288 with 1 Axes>"
      ]
     },
     "metadata": {
      "needs_background": "light"
     },
     "output_type": "display_data"
    }
   ],
   "source": [
    "plt.hist(cesium_df, range=[first_edge, last_edge], bins = 7, edgecolor='black')\n",
    "plt.xlabel('bins') # x-axis title\n",
    "plt.ylabel('Frequency') # y-axis title\n",
    "plt.title('Cesium Histogram') # Title histogram\n",
    "plt.show() # shows plot\n"
   ]
  },
  {
   "cell_type": "markdown",
   "id": "83e4468b",
   "metadata": {},
   "source": [
    "## Some Data Calculations!"
   ]
  },
  {
   "cell_type": "code",
   "execution_count": 8,
   "id": "133ae535",
   "metadata": {},
   "outputs": [],
   "source": [
    "# calculate the mean for the background\n",
    "mean_background = background_df.mean() # I used the datafram function .mean() to calculate the mean across the entire dataset for each column, it returns a series\n",
    "mean_background = mean_background[0] # df.mean() gave me a series but I just want a value. Here I just indexed the series to pull the value. (a series is kind of like a list, you can pull a single value from the series/list using an index)\n",
    "# subract mean background counts from your measurements (cesium)\n",
    "cesium_df = cesium_df - mean_background # applying math function (subtraction) to entire dataframe. You can apply it to a single column if you specify the column like this df['name_of_column']\n",
    "\n",
    "# calculate the mean for your data sample\n",
    "mean_cesium = cesium_df.mean() # same as above\n",
    "mean_cesium = mean_cesium[0]\n",
    "# generate Poisson distribution with sample size 50\n",
    "x = poisson.rvs(mu=mean_cesium, size=50)"
   ]
  },
  {
   "cell_type": "markdown",
   "id": "4bc46f52",
   "metadata": {},
   "source": [
    "## Create a two plots over eachother \n",
    "To do so just use two plt.hist functions! Note: it does not need to be plt.hist, could do plt.plot etc.\n",
    "\n",
    "* **alpha** controls the transparency, This way we can see the distribution behind it."
   ]
  },
  {
   "cell_type": "code",
   "execution_count": 9,
   "id": "761fdf29",
   "metadata": {},
   "outputs": [
    {
     "data": {
      "image/png": "[encoded data removed]",
      "text/plain": [
       "<Figure size 432x288 with 1 Axes>"
      ]
     },
     "metadata": {
      "needs_background": "light"
     },
     "output_type": "display_data"
    }
   ],
   "source": [
    "# plot two histograms on same plot (page 6)\n",
    "y = cesium_df # cesium data\n",
    "x = x # poisson data\n",
    "plt.hist(x, bins=7, alpha=0.5, label='Poisson') # alpha makes chart ligher color and more transparent\n",
    "plt.hist(y, bins=7, alpha=0.5, label='Cesium', edgecolor='black')\n",
    "plt.legend(loc='upper right') # add legend, loc stands for location (location of legend)\n",
    "plt.xlabel('bins')\n",
    "plt.ylabel('Frequency')\n",
    "plt.title('Cesium Histogram with Poisson distrubution')\n",
    "plt.show()"
   ]
  },
  {
   "cell_type": "markdown",
   "id": "d3d83e46",
   "metadata": {},
   "source": [
    "## Histograms vs Barcharts\n",
    "For some reason, we need to use bar charts to create histograms. Bar charts support more functionalities when utilzing error bars and trend lines\n",
    "\n",
    "## std deviation\n",
    "* if you need the std dev. you can use dataframename.std() to find the std. deviation of each column in dataframe\n",
    "## What we need to turn a bar chart into a histogram\n",
    "* bins\n",
    "* counts of instances that lie within each bin\n",
    "* use np.histogram() to find bins and counts\n",
    "## Error Bars\n",
    "* Need square root\n",
    "* use np.sqrt()\n",
    "\n",
    "list() turns variable into a list. example, variable1 is an np.array\n",
    "* use **variable1 = list(variable1)** to turn it into a list"
   ]
  },
  {
   "cell_type": "code",
   "execution_count": 12,
   "id": "ecb80323",
   "metadata": {},
   "outputs": [],
   "source": [
    "# calculate the standard deviation of cesium\n",
    "sigma = cesium_df.std()\n",
    "sigma = sigma[0]\n",
    "# use np.histogram to find counts in each bin \n",
    "counts, bin_edges = np.histogram(cesium_df, bins=7)\n",
    "counts = list(counts) # can use list() to turn variable into a list. Sometimes you need different variable types.\n",
    "# use numpy to take square root of counts to get standard deviation\n",
    "error = list(np.sqrt(counts)) \n"
   ]
  },
  {
   "cell_type": "markdown",
   "id": "39f9ce1c",
   "metadata": {},
   "source": [
    "## Plot a bar chart with plt.bar()\n",
    "* width: increases the width of the bars, if you have man bars (200) the width needs to be around 20 or the bars will not show up.\n",
    "* x is a list of bin data\n",
    "* y is a list of counts (the frequency of instances lie within each of the bins)\n",
    "* linestyle takes a string, controls the linestyle\n",
    "#### documentation: https://matplotlib.org/stable/api/_as_gen/matplotlib.pyplot.bar.html\n",
    "\n",
    "## Plot error bars\n",
    "* use plt.errorbar() to create the error bars\n",
    "* x, y is the data from above\n",
    "* yerr = the error of y\n",
    "* ecolor = the color of the error bars\n"
   ]
  },
  {
   "cell_type": "code",
   "execution_count": 13,
   "id": "c89079ef",
   "metadata": {},
   "outputs": [
    {
     "data": {
      "image/png": "[encoded data removed]",
      "text/plain": [
       "<Figure size 432x288 with 1 Axes>"
      ]
     },
     "metadata": {
      "needs_background": "light"
     },
     "output_type": "display_data"
    }
   ],
   "source": [
    "\n",
    "x = list(bin_edges[1:].astype(int)) # this is a list of bins, I used a slice to omit the first value in the array.\n",
    "y= counts\n",
    "# Plot Bar chart \n",
    "plt.bar(x,y, width = 4) \n",
    "plt.plot(x,y, linestyle='dotted') \n",
    "plt.errorbar(x, y, yerr = error, fmt='o',ecolor = 'red') \n",
    "# Set axes limit\n",
    "plt.xlim(320, 380) # limits x axis on graph\n",
    "plt.ylim(0,16)      # limits y axis on graph\n",
    "plt.xlabel('bins')\n",
    "plt.ylabel('Counts')\n",
    "plt.title('Cesium Histogram with error bars')\n",
    "plt.show()"
   ]
  },
  {
   "cell_type": "markdown",
   "id": "afcbf93b",
   "metadata": {},
   "source": [
    "## Muon Decay"
   ]
  },
  {
   "cell_type": "code",
   "execution_count": 14,
   "id": "3c2cf2ad",
   "metadata": {},
   "outputs": [
    {
     "data": {
      "image/png": "[encoded data removed]",
      "text/plain": [
       "<Figure size 432x288 with 1 Axes>"
      ]
     },
     "metadata": {
      "needs_background": "light"
     },
     "output_type": "display_data"
    }
   ],
   "source": [
    "# plot histogram of muon using the matplotlib package\n",
    "# ADC channel numbers less than\t125\tand\tgreater\tthan 4075, userange parameter, set number of bins to 200 using the bin parameter\n",
    "first_edge, last_edge = muon_df.min(), muon_df.max()\n",
    "plt.hist(muon_df, range=[125, 4075], bins = 200)\n",
    "plt.xlabel('Data')\n",
    "plt.ylabel('Counts')\n",
    "plt.title('Muon Decay')\n",
    "plt.grid(True)\n",
    "plt.show()"
   ]
  },
  {
   "cell_type": "markdown",
   "id": "e4bc99b5",
   "metadata": {},
   "source": [
    "## Lets log transform the y axis\n",
    "* use np.log10()\n",
    "* I beleive np.log2() is the natural log"
   ]
  },
  {
   "cell_type": "code",
   "execution_count": null,
   "id": "2cd1ff55",
   "metadata": {},
   "outputs": [],
   "source": [
    "counts, bin_edges = np.histogram(muon_df, bins=200)\n",
    "counts = list(np.log10(counts))\n",
    "error = list(np.sqrt(counts))"
   ]
  },
  {
   "cell_type": "markdown",
   "id": "51901501",
   "metadata": {},
   "source": [
    "## Plot with trend line with plt.plot\n",
    "https://matplotlib.org/stable/api/_as_gen/matplotlib.pyplot.plot.html\n"
   ]
  },
  {
   "cell_type": "code",
   "execution_count": 19,
   "id": "93f018f3",
   "metadata": {},
   "outputs": [
    {
     "data": {
      "text/plain": [
       "[<matplotlib.lines.Line2D at 0x1f78cafa280>]"
      ]
     },
     "execution_count": 19,
     "metadata": {},
     "output_type": "execute_result"
    },
    {
     "data": {
      "image/png": "[encoded data removed]",
      "text/plain": [
       "<Figure size 432x288 with 1 Axes>"
      ]
     },
     "metadata": {
      "needs_background": "light"
     },
     "output_type": "display_data"
    }
   ],
   "source": [
    "# Define Data\n",
    "x = list(bin_edges[1:].astype(int))\n",
    "y= counts\n",
    "\n",
    "# Plot Bar chart\n",
    "plt.bar(x,y, width = 25)\n",
    "plt.xlim(125,4075) # limits data range along x axis\n",
    "# plt.errorbar(x, y), yerr = error, fmt='o',ecolor = 'red') # Plot error bars, I think I did the calculation wrong here\n",
    "plt.xlabel('ADC Channel')\n",
    "plt.ylabel('Number of Evens (log)')\n",
    "plt.title('Muon Decay')\n",
    "\n",
    "# Getting the mean and standard deviation of the sample data dt using scipy.stats\n",
    "mn, std = scipy.stats.norm.fit(muon_df) \n",
    "y_curve = scipy.stats.norm.pdf(bin_edges, mn, std)\n",
    "# plot trend line\n",
    "z = np.polyfit(x, y, 1) # Least squares polynomial fit.\n",
    "p = np.poly1d(z) # A one-dimensional polynomial class.\n",
    "plt.plot(x,p(x),\"r--\") # p(x) you are multiplying two vectors a"
   ]
  },
  {
   "cell_type": "code",
   "execution_count": 20,
   "id": "998b6477",
   "metadata": {},
   "outputs": [
    {
     "data": {
      "text/plain": [
       "array([2.4249527 , 2.41604916, 2.40714562, 2.39824208, 2.38933854,\n",
       "       2.380435  , 2.37153146, 2.36262791, 2.35372437, 2.34482083,\n",
       "       2.33636247, 2.32745893, 2.31855539, 2.30965185, 2.30074831,\n",
       "       2.29184476, 2.28294122, 2.27403768, 2.26513414, 2.2562306 ,\n",
       "       2.24777224, 2.2388687 , 2.22996516, 2.22106161, 2.21215807,\n",
       "       2.20325453, 2.19435099, 2.18544745, 2.17654391, 2.16764037,\n",
       "       2.15918201, 2.15027846, 2.14137492, 2.13247138, 2.12356784,\n",
       "       2.1146643 , 2.10576076, 2.09685722, 2.08795368, 2.07905014,\n",
       "       2.07059177, 2.06168823, 2.05278469, 2.04388115, 2.03497761,\n",
       "       2.02607407, 2.01717053, 2.00826699, 1.99936345, 1.99045991,\n",
       "       1.98200154, 1.973098  , 1.96419446, 1.95529092, 1.94638738,\n",
       "       1.93748384, 1.9285803 , 1.91967676, 1.91077322, 1.90186967,\n",
       "       1.89341131, 1.88450777, 1.87560423, 1.86670069, 1.85779715,\n",
       "       1.84889361, 1.83999007, 1.83108652, 1.82218298, 1.81327944,\n",
       "       1.80482108, 1.79591754, 1.787014  , 1.77811046, 1.76920692,\n",
       "       1.76030337, 1.75139983, 1.74249629, 1.73359275, 1.72468921,\n",
       "       1.71623085, 1.70732731, 1.69842377, 1.68952022, 1.68061668,\n",
       "       1.67171314, 1.6628096 , 1.65390606, 1.64500252, 1.63654416,\n",
       "       1.62764062, 1.61873708, 1.60983353, 1.60092999, 1.59202645,\n",
       "       1.58312291, 1.57421937, 1.56531583, 1.55641229, 1.54750875,\n",
       "       1.53905038, 1.53014684, 1.5212433 , 1.51233976, 1.50343622,\n",
       "       1.49453268, 1.48562914, 1.4767256 , 1.46782206, 1.45891852,\n",
       "       1.45046015, 1.44155661, 1.43265307, 1.42374953, 1.41484599,\n",
       "       1.40594245, 1.39703891, 1.38813537, 1.37923183, 1.37032828,\n",
       "       1.36186992, 1.35296638, 1.34406284, 1.3351593 , 1.32625576,\n",
       "       1.31735222, 1.30844868, 1.29954514, 1.29064159, 1.28173805,\n",
       "       1.27327969, 1.26437615, 1.25547261, 1.24656907, 1.23766553,\n",
       "       1.22876199, 1.21985844, 1.2109549 , 1.20205136, 1.19314782,\n",
       "       1.18468946, 1.17578592, 1.16688238, 1.15797884, 1.14907529,\n",
       "       1.14017175, 1.13126821, 1.12236467, 1.11346113, 1.10455759,\n",
       "       1.09609923, 1.08719569, 1.07829214, 1.0693886 , 1.06048506,\n",
       "       1.05158152, 1.04267798, 1.03377444, 1.0248709 , 1.01596736,\n",
       "       1.00750899, 0.99860545, 0.98970191, 0.98079837, 0.97189483,\n",
       "       0.96299129, 0.95408775, 0.94518421, 0.93628067, 0.9278223 ,\n",
       "       0.91891876, 0.91001522, 0.90111168, 0.89220814, 0.8833046 ,\n",
       "       0.87440106, 0.86549752, 0.85659398, 0.84769044, 0.83923207,\n",
       "       0.83032853, 0.82142499, 0.81252145, 0.80361791, 0.79471437,\n",
       "       0.78581083, 0.77690729, 0.76800375, 0.7591002 , 0.75064184,\n",
       "       0.7417383 , 0.73283476, 0.72393122, 0.71502768, 0.70612414,\n",
       "       0.6972206 , 0.68831705, 0.67941351, 0.67050997, 0.66160643])"
      ]
     },
     "execution_count": 20,
     "metadata": {},
     "output_type": "execute_result"
    }
   ],
   "source": [
    "p(x)"
   ]
  },
  {
   "cell_type": "code",
   "execution_count": 21,
   "id": "d8392a43",
   "metadata": {},
   "outputs": [
    {
     "data": {
      "text/plain": [
       "poly1d([-4.45177043e-04,  2.48460642e+00])"
      ]
     },
     "execution_count": 21,
     "metadata": {},
     "output_type": "execute_result"
    }
   ],
   "source": [
    "p"
   ]
  },
  {
   "cell_type": "code",
   "execution_count": 22,
   "id": "9a1e582b",
   "metadata": {},
   "outputs": [
    {
     "data": {
      "text/plain": [
       "[134,\n",
       " 154,\n",
       " 174,\n",
       " 194,\n",
       " 214,\n",
       " 234,\n",
       " 254,\n",
       " 274,\n",
       " 294,\n",
       " 314,\n",
       " 333,\n",
       " 353,\n",
       " 373,\n",
       " 393,\n",
       " 413,\n",
       " 433,\n",
       " 453,\n",
       " 473,\n",
       " 493,\n",
       " 513,\n",
       " 532,\n",
       " 552,\n",
       " 572,\n",
       " 592,\n",
       " 612,\n",
       " 632,\n",
       " 652,\n",
       " 672,\n",
       " 692,\n",
       " 712,\n",
       " 731,\n",
       " 751,\n",
       " 771,\n",
       " 791,\n",
       " 811,\n",
       " 831,\n",
       " 851,\n",
       " 871,\n",
       " 891,\n",
       " 911,\n",
       " 930,\n",
       " 950,\n",
       " 970,\n",
       " 990,\n",
       " 1010,\n",
       " 1030,\n",
       " 1050,\n",
       " 1070,\n",
       " 1090,\n",
       " 1110,\n",
       " 1129,\n",
       " 1149,\n",
       " 1169,\n",
       " 1189,\n",
       " 1209,\n",
       " 1229,\n",
       " 1249,\n",
       " 1269,\n",
       " 1289,\n",
       " 1309,\n",
       " 1328,\n",
       " 1348,\n",
       " 1368,\n",
       " 1388,\n",
       " 1408,\n",
       " 1428,\n",
       " 1448,\n",
       " 1468,\n",
       " 1488,\n",
       " 1508,\n",
       " 1527,\n",
       " 1547,\n",
       " 1567,\n",
       " 1587,\n",
       " 1607,\n",
       " 1627,\n",
       " 1647,\n",
       " 1667,\n",
       " 1687,\n",
       " 1707,\n",
       " 1726,\n",
       " 1746,\n",
       " 1766,\n",
       " 1786,\n",
       " 1806,\n",
       " 1826,\n",
       " 1846,\n",
       " 1866,\n",
       " 1886,\n",
       " 1905,\n",
       " 1925,\n",
       " 1945,\n",
       " 1965,\n",
       " 1985,\n",
       " 2005,\n",
       " 2025,\n",
       " 2045,\n",
       " 2065,\n",
       " 2085,\n",
       " 2105,\n",
       " 2124,\n",
       " 2144,\n",
       " 2164,\n",
       " 2184,\n",
       " 2204,\n",
       " 2224,\n",
       " 2244,\n",
       " 2264,\n",
       " 2284,\n",
       " 2304,\n",
       " 2323,\n",
       " 2343,\n",
       " 2363,\n",
       " 2383,\n",
       " 2403,\n",
       " 2423,\n",
       " 2443,\n",
       " 2463,\n",
       " 2483,\n",
       " 2503,\n",
       " 2522,\n",
       " 2542,\n",
       " 2562,\n",
       " 2582,\n",
       " 2602,\n",
       " 2622,\n",
       " 2642,\n",
       " 2662,\n",
       " 2682,\n",
       " 2702,\n",
       " 2721,\n",
       " 2741,\n",
       " 2761,\n",
       " 2781,\n",
       " 2801,\n",
       " 2821,\n",
       " 2841,\n",
       " 2861,\n",
       " 2881,\n",
       " 2901,\n",
       " 2920,\n",
       " 2940,\n",
       " 2960,\n",
       " 2980,\n",
       " 3000,\n",
       " 3020,\n",
       " 3040,\n",
       " 3060,\n",
       " 3080,\n",
       " 3100,\n",
       " 3119,\n",
       " 3139,\n",
       " 3159,\n",
       " 3179,\n",
       " 3199,\n",
       " 3219,\n",
       " 3239,\n",
       " 3259,\n",
       " 3279,\n",
       " 3299,\n",
       " 3318,\n",
       " 3338,\n",
       " 3358,\n",
       " 3378,\n",
       " 3398,\n",
       " 3418,\n",
       " 3438,\n",
       " 3458,\n",
       " 3478,\n",
       " 3497,\n",
       " 3517,\n",
       " 3537,\n",
       " 3557,\n",
       " 3577,\n",
       " 3597,\n",
       " 3617,\n",
       " 3637,\n",
       " 3657,\n",
       " 3677,\n",
       " 3696,\n",
       " 3716,\n",
       " 3736,\n",
       " 3756,\n",
       " 3776,\n",
       " 3796,\n",
       " 3816,\n",
       " 3836,\n",
       " 3856,\n",
       " 3876,\n",
       " 3895,\n",
       " 3915,\n",
       " 3935,\n",
       " 3955,\n",
       " 3975,\n",
       " 3995,\n",
       " 4015,\n",
       " 4035,\n",
       " 4055,\n",
       " 4075,\n",
       " 4095]"
      ]
     },
     "execution_count": 22,
     "metadata": {},
     "output_type": "execute_result"
    }
   ],
   "source": [
    "x"
   ]
  },
  {
   "cell_type": "code",
   "execution_count": null,
   "id": "6739eb76",
   "metadata": {},
   "outputs": [],
   "source": []
  }
 ],
 "metadata": {
  "kernelspec": {
   "display_name": "Python 3",
   "language": "python",
   "name": "python3"
  },
  "language_info": {
   "codemirror_mode": {
    "name": "ipython",
    "version": 3
   },
   "file_extension": ".py",
   "mimetype": "text/x-python",
   "name": "python",
   "nbconvert_exporter": "python",
   "pygments_lexer": "ipython3",
   "version": "3.8.8"
  }
 },
 "nbformat": 4,
 "nbformat_minor": 5
}
